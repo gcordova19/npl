{
  "nbformat": 4,
  "nbformat_minor": 0,
  "metadata": {
    "colab": {
      "provenance": []
    },
    "kernelspec": {
      "name": "python3",
      "display_name": "Python 3"
    },
    "language_info": {
      "name": "python"
    }
  },
  "cells": [
    {
      "cell_type": "code",
      "execution_count": 1,
      "metadata": {
        "colab": {
          "base_uri": "https://localhost:8080/"
        },
        "id": "t9CSlH_7AOnc",
        "outputId": "e091fd4b-a0e0-4f84-e94e-00f14c829147"
      },
      "outputs": [
        {
          "output_type": "stream",
          "name": "stdout",
          "text": [
            "Dimensiones de data_train: (48021,)\n",
            "Dimensiones de data_test: (12006,)\n"
          ]
        }
      ],
      "source": [
        "import pandas as pd\n",
        "from sklearn.model_selection import train_test_split\n",
        "\n",
        "# Cargar tu DataFrame\n",
        "df = pd.read_csv('/content/data_file.csv')\n",
        "\n",
        "# Definir la semilla para que la división sea reproducible\n",
        "semilla = 42\n",
        "\n",
        "# Dividir los datos en conjuntos de entrenamiento y prueba\n",
        "data_train, data_test = train_test_split(df, test_size=0.2, random_state=semilla)\n",
        "\n",
        "# Separar las columnas relevantes para entrenamiento y prueba\n",
        "X_train = data_train['reviewText']\n",
        "X_test = data_test['reviewText']\n",
        "y_train = data_train['binaria']\n",
        "y_test = data_test['binaria']\n",
        "\n",
        "# Comprobar las dimensiones de los conjuntos resultantes\n",
        "print(\"Dimensiones de data_train:\", X_train.shape)\n",
        "print(\"Dimensiones de data_test:\", X_test.shape)\n"
      ]
    },
    {
      "cell_type": "code",
      "source": [
        "# RegEx for removing non-letter characters\n",
        "import re\n",
        "\n",
        "# NLTK library for the remaining steps\n",
        "import nltk\n",
        "nltk.download(\"stopwords\")   # download list of stopwords (only once; need not run it again)\n",
        "from nltk.corpus import stopwords # import stopwords\n",
        "\n",
        "from nltk.stem import PorterStemmer\n"
      ],
      "metadata": {
        "colab": {
          "base_uri": "https://localhost:8080/"
        },
        "id": "bi8nVLgwB2lJ",
        "outputId": "ede8d0af-fcb6-4440-9cae-3baff91d73f0"
      },
      "execution_count": 2,
      "outputs": [
        {
          "output_type": "stream",
          "name": "stderr",
          "text": [
            "[nltk_data] Downloading package stopwords to /root/nltk_data...\n",
            "[nltk_data]   Package stopwords is already up-to-date!\n"
          ]
        }
      ]
    },
    {
      "cell_type": "code",
      "source": [
        "!pip install num2words\n"
      ],
      "metadata": {
        "colab": {
          "base_uri": "https://localhost:8080/"
        },
        "id": "EmpJTk5dJq94",
        "outputId": "ea2327e9-b6a7-47ac-ac60-f60318bbeae5"
      },
      "execution_count": 3,
      "outputs": [
        {
          "output_type": "stream",
          "name": "stdout",
          "text": [
            "Requirement already satisfied: num2words in /usr/local/lib/python3.10/dist-packages (0.5.12)\n",
            "Requirement already satisfied: docopt>=0.6.2 in /usr/local/lib/python3.10/dist-packages (from num2words) (0.6.2)\n"
          ]
        }
      ]
    },
    {
      "cell_type": "code",
      "source": [
        "import os\n",
        "import pickle\n",
        "import unicodedata\n",
        "from num2words import num2words\n",
        "from nltk import RegexpTokenizer\n",
        "from nltk.corpus import stopwords\n",
        "from nltk.stem import PorterStemmer\n",
        "\n",
        "cache_dir = os.path.join(\"cache\", \"vehicle_analysis\")\n",
        "os.makedirs(cache_dir, exist_ok=True)\n",
        "\n",
        "def nltk_cleaner(text, tokenizer, sw_list, stemmer):\n",
        "    clean_text = list()\n",
        "\n",
        "    # Eliminar acentos, etc\n",
        "    text = unicodedata.normalize('NFKD', text).encode('ascii', 'ignore').decode('utf-8', 'ignore')\n",
        "\n",
        "    # Separar palabras eliminando signos de puntuación\n",
        "    for word in tokenizer.tokenize(text):\n",
        "\n",
        "        # Eliminar stop words\n",
        "        if word not in sw_list:\n",
        "\n",
        "            # Eliminar espacios sobrantes, convertir a minúsculas y aplicar stemming\n",
        "            clean_word = stemmer.stem(word).lower().strip()\n",
        "\n",
        "            # Convertir dígitos a palabras\n",
        "            if clean_word.isdigit():\n",
        "                clean_word = num2words(clean_word, lang='en')  # Cambiado a inglés\n",
        "\n",
        "            clean_text.append(clean_word)\n",
        "\n",
        "    clean_text = ' '.join(clean_text)\n",
        "\n",
        "    return clean_text\n",
        "\n",
        "def preprocess_data(X_train, X_test, y_train, y_test,\n",
        "                    cache_dir=cache_dir, cache_file=\"preprocessed_data.pkl\"):\n",
        "    \"\"\"Convert reviews to preprocessed words; read from cache if available.\"\"\"\n",
        "\n",
        "    cache_data = None\n",
        "    if cache_file is not None:\n",
        "        try:\n",
        "            with open(os.path.join(cache_dir, cache_file), \"rb\") as f:\n",
        "                cache_data = pickle.load(f)\n",
        "            print(\"Read preprocessed data from cache file:\", cache_file)\n",
        "        except:\n",
        "            pass\n",
        "\n",
        "    if cache_data is None:\n",
        "        tokenizer = RegexpTokenizer(r'\\w+')\n",
        "        sw_list = stopwords.words('english')\n",
        "        stemmer = PorterStemmer()\n",
        "\n",
        "        words_train = [nltk_cleaner(review, tokenizer, sw_list, stemmer) for review in X_train]\n",
        "        words_test = [nltk_cleaner(review, tokenizer, sw_list, stemmer) for review in X_test]\n",
        "\n",
        "        if cache_file is not None:\n",
        "            cache_data = dict(words_train=words_train, words_test=words_test, y_train=y_train, y_test=y_test)\n",
        "            with open(os.path.join(cache_dir, cache_file), \"wb\") as f:\n",
        "                pickle.dump(cache_data, f)\n",
        "            print(\"Wrote preprocessed data to cache file:\", cache_file)\n",
        "    else:\n",
        "        words_train, words_test, y_train, y_test = (cache_data['words_train'], cache_data['words_test'],\n",
        "                                                    cache_data['y_train'], cache_data['y_test'])\n",
        "\n",
        "    return words_train, words_test, y_train, y_test\n",
        "\n",
        "# Uso de la función con tus datos\n",
        "X_train_preprocess, X_test_preprocess, y_train_preprocess, y_test_preprocess = preprocess_data(X_train, X_test, y_train, y_test)\n",
        "\n",
        "print(\"\\n--- Raw review ---\")\n",
        "print(X_train_preprocess[0])\n",
        "print(\"\\n--- Preprocessed words ---\")\n",
        "print(X_train_preprocess[0])\n",
        "print(\"\\n--- Label ---\")\n",
        "print(y_train_preprocess[0])\n"
      ],
      "metadata": {
        "colab": {
          "base_uri": "https://localhost:8080/"
        },
        "id": "f9YRJMDcCWoA",
        "outputId": "a75434c3-cb8f-45c8-dba9-bfa2403142ed"
      },
      "execution_count": 4,
      "outputs": [
        {
          "output_type": "stream",
          "name": "stdout",
          "text": [
            "Read preprocessed data from cache file: preprocessed_data.pkl\n",
            "\n",
            "--- Raw review ---\n",
            "thirteen year two hundred and forty zero mile still run handl like new truck half afraid buy new one not sure i got except one million gener good but love truck\n",
            "\n",
            "--- Preprocessed words ---\n",
            "thirteen year two hundred and forty zero mile still run handl like new truck half afraid buy new one not sure i got except one million gener good but love truck\n",
            "\n",
            "--- Label ---\n",
            "0\n"
          ]
        }
      ]
    },
    {
      "cell_type": "code",
      "source": [
        "import numpy as np\n",
        "from sklearn.feature_extraction.text import CountVectorizer\n",
        "import joblib\n",
        "import random\n",
        "\n",
        "def extract_BoW_features(X_train, X_test, vocabulary_size=5000,\n",
        "                         cache_dir=cache_dir, cache_file=\"bow_features.pkl\"):\n",
        "    \"\"\"Extract Bag-of-Words for a given set of documents, already preprocessed into words.\"\"\"\n",
        "\n",
        "    cache_data = None\n",
        "    if cache_file is not None:\n",
        "        try:\n",
        "            with open(os.path.join(cache_dir, cache_file), \"rb\") as f:\n",
        "                cache_data = joblib.load(f)\n",
        "            print(\"Read features from cache file:\", cache_file)\n",
        "        except:\n",
        "            pass\n",
        "\n",
        "    if cache_data is None:\n",
        "        vectorizer = CountVectorizer(max_features=vocabulary_size, stop_words='english')\n",
        "        features_train = vectorizer.fit_transform(X_train).toarray()\n",
        "        features_test = vectorizer.transform(X_test).toarray()\n",
        "\n",
        "        if cache_file is not None:\n",
        "            vocabulary = vectorizer.get_feature_names_out()\n",
        "            cache_data = dict(features_train=features_train, features_test=features_test,\n",
        "                             vocabulary=vocabulary)\n",
        "            with open(os.path.join(cache_dir, cache_file), \"wb\") as f:\n",
        "                joblib.dump(cache_data, f)\n",
        "            print(\"Wrote features to cache file:\", cache_file)\n",
        "    else:\n",
        "        features_train, features_test, vocabulary = (cache_data['features_train'],\n",
        "                cache_data['features_test'], cache_data['vocabulary'])\n",
        "\n",
        "    return features_train, features_test, vocabulary\n",
        "\n",
        "features_train, features_test, vocabulary = extract_BoW_features(X_train_preprocess, X_test_preprocess)\n",
        "\n",
        "print(\"Vocabulary: {} words\".format(len(vocabulary)))\n",
        "\n",
        "# Convertir la lista en una tupla para sample\n",
        "vocabulary_tuple = tuple(vocabulary)\n",
        "sample_words = random.sample(vocabulary_tuple, 8)\n",
        "print(\"Sample words: {}\".format(sample_words))\n",
        "\n",
        "print(\"\\n--- Bag-of-Words features ---\")\n",
        "print(features_train[5])\n",
        "print(\"\\n--- Label ---\")\n",
        "print(y_train[5])\n"
      ],
      "metadata": {
        "colab": {
          "base_uri": "https://localhost:8080/"
        },
        "id": "Rt8oUYGUMJ4c",
        "outputId": "a873f014-e47f-489b-fb27-6d5825ac8ec4"
      },
      "execution_count": 5,
      "outputs": [
        {
          "output_type": "stream",
          "name": "stdout",
          "text": [
            "Read features from cache file: bow_features.pkl\n",
            "Vocabulary: 5000 words\n",
            "Sample words: ['strength', 'grandfath', 'carpool', 'lifetim', 'quickest', 'european', 'clone', 'pick']\n",
            "\n",
            "--- Bag-of-Words features ---\n",
            "[0 0 0 ... 0 0 0]\n",
            "\n",
            "--- Label ---\n",
            "0\n"
          ]
        }
      ]
    },
    {
      "cell_type": "markdown",
      "source": [
        "Se elige un vocabularia grande ya que hay unas 48021 muestras en test asi que elejo un valor alto."
      ],
      "metadata": {
        "id": "xtpP8p7AosRu"
      }
    },
    {
      "cell_type": "code",
      "source": [
        "import matplotlib.pyplot as plt\n",
        "#Frecuencia de las palabras. Observamos algunos outliers.\n",
        "#Esos datos tienen q ser significativos dado que se ha realizado un preprocesamiento previo\n",
        "plt.plot(features_train[4999,:])\n",
        "plt.xlabel('Word')\n",
        "plt.ylabel('Count')\n",
        "plt.show()"
      ],
      "metadata": {
        "colab": {
          "base_uri": "https://localhost:8080/",
          "height": 449
        },
        "id": "tjOIi6DJRONQ",
        "outputId": "5853d50b-fe3e-49a1-d297-d76d1e7145a8"
      },
      "execution_count": 6,
      "outputs": [
        {
          "output_type": "display_data",
          "data": {
            "text/plain": [
              "<Figure size 640x480 with 1 Axes>"
            ],
            "image/png": "[encoded data removed]"
          },
          "metadata": {}
        }
      ]
    },
    {
      "cell_type": "code",
      "source": [
        "#Observamos la ley de Zipf\n",
        "word_freq = features_train.sum(axis=0)\n",
        "\n",
        "sorted_word_freq = np.sort(word_freq)[::-1]\n",
        "\n",
        "plt.plot(sorted_word_freq)\n",
        "plt.gca().set_xscale('log')\n",
        "plt.gca().set_yscale('log')\n",
        "plt.xlabel('Rank')\n",
        "plt.ylabel('Number of occurrences')\n",
        "plt.show()"
      ],
      "metadata": {
        "colab": {
          "base_uri": "https://localhost:8080/",
          "height": 454
        },
        "id": "U7-kcs2ERnt2",
        "outputId": "fcd712d0-b0dc-4ee0-dcf9-220bf470cc24"
      },
      "execution_count": 7,
      "outputs": [
        {
          "output_type": "display_data",
          "data": {
            "text/plain": [
              "<Figure size 640x480 with 1 Axes>"
            ],
            "image/png": "[encoded data removed]"
          },
          "metadata": {}
        }
      ]
    },
    {
      "cell_type": "code",
      "source": [
        "import sklearn.preprocessing as pr\n",
        "\n",
        "features_train = pr.normalize(features_train, axis=1)\n",
        "features_test = pr.normalize(features_test, axis=1)"
      ],
      "metadata": {
        "id": "jXfNTfdVRvbZ"
      },
      "execution_count": 8,
      "outputs": []
    },
    {
      "cell_type": "markdown",
      "source": [
        "No se ha justificado la aplicacion del preprocesado por que ya se vio como era necesario en la exploracion del corpus."
      ],
      "metadata": {
        "id": "cteNDNZAqWzA"
      }
    },
    {
      "cell_type": "markdown",
      "source": [
        "**Entrenar con GradientBoostingClassifier**"
      ],
      "metadata": {
        "id": "lo8oJeNBSP5w"
      }
    },
    {
      "cell_type": "code",
      "source": [
        "from sklearn.ensemble import GradientBoostingClassifier\n",
        "\n",
        "n_estimators = 32\n",
        "\n",
        "def classify_gboost(X_train, X_test, y_train, y_test):\n",
        "    clf = GradientBoostingClassifier(n_estimators=n_estimators, learning_rate=1.0, max_depth=1, random_state=42)\n",
        "    clf.fit(X_train, y_train)\n",
        "\n",
        "    print(\"[{}] Accuracy: train = {}, test = {}\".format(\n",
        "            clf.__class__.__name__,\n",
        "            clf.score(X_train, y_train),\n",
        "            clf.score(X_test, y_test)))\n",
        "\n",
        "    return clf\n",
        "\n",
        "\n",
        "clf2 = classify_gboost(features_train, features_test, y_train_preprocess, y_test_preprocess)"
      ],
      "metadata": {
        "colab": {
          "base_uri": "https://localhost:8080/"
        },
        "id": "YHYaVLRfSZHn",
        "outputId": "d3e0192e-ee5b-4bcf-d353-8d1f7d2395ae"
      },
      "execution_count": 22,
      "outputs": [
        {
          "output_type": "stream",
          "name": "stdout",
          "text": [
            "[GradientBoostingClassifier] Accuracy: train = 0.9085816621894588, test = 0.910128269198734\n"
          ]
        }
      ]
    },
    {
      "cell_type": "code",
      "source": [
        "from sklearn.metrics import confusion_matrix, recall_score, precision_score, f1_score, roc_auc_score, roc_curve, auc\n",
        "from sklearn.ensemble import GradientBoostingClassifier\n",
        "import matplotlib.pyplot as plt\n",
        "\n",
        "n_estimators = 32\n",
        "\n",
        "def classify_gboost(X_train, X_test, y_train, y_test):\n",
        "    clf = GradientBoostingClassifier(n_estimators=n_estimators, learning_rate=1.0, max_depth=1, random_state=42)\n",
        "    clf.fit(X_train, y_train)\n",
        "\n",
        "    train_accuracy = clf.score(X_train, y_train)\n",
        "    test_accuracy = clf.score(X_test, y_test)\n",
        "\n",
        "    print(\"[{}] Accuracy: train = {:.4f}, test = {:.4f}\".format(\n",
        "            clf.__class__.__name__,\n",
        "            train_accuracy,\n",
        "            test_accuracy))\n",
        "\n",
        "    # Calcula la matriz de confusión en el conjunto de prueba\n",
        "    y_pred = clf.predict(X_test)\n",
        "    cm = confusion_matrix(y_test, y_pred)\n",
        "    print(\"Confusion Matrix:\")\n",
        "    print(cm)\n",
        "\n",
        "    # Calcula el Recall en el conjunto de prueba\n",
        "    recall = recall_score(y_test, y_pred)\n",
        "    print(\"Recall: {:.4f}\".format(recall))\n",
        "\n",
        "    # Calcula la Precisión en el conjunto de prueba\n",
        "    precision = precision_score(y_test, y_pred)\n",
        "    print(\"Precision: {:.4f}\".format(precision))\n",
        "\n",
        "    # Calcula el F1-Score en el conjunto de prueba\n",
        "    f1 = f1_score(y_test, y_pred)\n",
        "    print(\"F1-Score: {:.4f}\".format(f1))\n",
        "\n",
        "    # Calcula el AUC-ROC en el conjunto de prueba\n",
        "    y_scores = clf.decision_function(X_test)\n",
        "    roc_auc = roc_auc_score(y_test, y_scores)\n",
        "    print(\"AUC-ROC: {:.4f}\".format(roc_auc))\n",
        "\n",
        "    # Calcula la curva ROC y plótala\n",
        "    fpr, tpr, _ = roc_curve(y_test, y_scores)\n",
        "    roc_auc = auc(fpr, tpr)\n",
        "    plt.figure()\n",
        "    plt.plot(fpr, tpr, color='darkorange', lw=2, label='ROC curve (area = {:.2f})'.format(roc_auc))\n",
        "    plt.plot([0, 1], [0, 1], color='navy', lw=2, linestyle='--')\n",
        "    plt.xlim([0.0, 1.0])\n",
        "    plt.ylim([0.0, 1.05])\n",
        "    plt.xlabel('False Positive Rate')\n",
        "    plt.ylabel('True Positive Rate')\n",
        "    plt.title('Receiver Operating Characteristic')\n",
        "    plt.legend(loc='lower right')\n",
        "    plt.show()\n",
        "\n",
        "    return clf\n",
        "\n",
        "clf2 = classify_gboost(features_train, features_test, y_train_preprocess, y_test_preprocess)\n"
      ],
      "metadata": {
        "colab": {
          "base_uri": "https://localhost:8080/",
          "height": 611
        },
        "id": "1SAkeFE8dpli",
        "outputId": "424242cf-d591-455d-cf47-61a400f634bf"
      },
      "execution_count": 23,
      "outputs": [
        {
          "output_type": "stream",
          "name": "stdout",
          "text": [
            "[GradientBoostingClassifier] Accuracy: train = 0.9086, test = 0.9101\n",
            "Confusion Matrix:\n",
            "[[   97  1017]\n",
            " [   62 10830]]\n",
            "Recall: 0.9943\n",
            "Precision: 0.9142\n",
            "F1-Score: 0.9525\n",
            "AUC-ROC: 0.5539\n"
          ]
        },
        {
          "output_type": "display_data",
          "data": {
            "text/plain": [
              "<Figure size 640x480 with 1 Axes>"
            ],
            "image/png": "[encoded data removed]"
          },
          "metadata": {}
        }
      ]
    },
    {
      "cell_type": "markdown",
      "source": [
        "En este caso obtenemos valores altos de accuracy  del modelo de clasificacion aunque esta metrica podria ser enganosa ya que los datos usados no estan balanceados. Por eso a  continuacion se agregan otras metricas:\n",
        "\n",
        "*   matriz de confusion:\n",
        "97 verdaderos negativos (TN): Muestras clasificadas correctamente como negativas.\n",
        "1017 falsos positivos (FP): Muestras clasificadas incorrectamente como positivas.\n",
        "62 falsos negativos (FN): Muestras clasificadas incorrectamente como negativas.\n",
        "10830 verdaderos positivos (TP): Muestras clasificadas correctamente como positivas.\n",
        "\n",
        "El modelo tiene un buen número de verdaderos positivos (valor alto de Recall) y verdaderos negativos, lo que muestra su capacidad para clasificar correctamente tanto las muestras positivas como las negativas. Sin embargo, también hay un número considerable de falsos positivos (valor que se deberia mejorar Precision) y falsos negativos, lo que sugiere que el modelo todavía comete errores y podría mejorarse, especialmente en la reducción de los falsos positivos y falsos negativos para mejorar la precisión y la recuperación.\n",
        "F1-Score sugiere que el modelo tiene un buen rendimiento equilibrado en términos de Recall y Precision\n",
        "*   AUC-ROC muestra la capacidad del modelo de distinguir entre clases donde el valor esta mas cerca del 0.5 (azar). Es bastante bajo lo que significa que no tiene una buena capacidad de discriminar entre clases y esto se deberia al debalance y sobreajustamiento. Necesita mejorar el preprocesamiento con un mejor balance y trabajar con un GridSearchCV con los distintos hyperparametros.\n",
        "\n",
        "\n",
        "\n",
        "\n",
        "\n",
        "\n"
      ],
      "metadata": {
        "id": "YPC8TelSbteA"
      }
    },
    {
      "cell_type": "code",
      "source": [
        "from sklearn.model_selection import GridSearchCV\n",
        "from sklearn.ensemble import GradientBoostingClassifier\n",
        "\n",
        "def classify_gboost(X_train, X_test, y_train, y_test):\n",
        "    # Define los parámetros a ajustar\n",
        "    param_grid = {\n",
        "        'n_estimators': [10, 20, 30, 40],\n",
        "        'learning_rate': [0.1, 0.5, 1, 2],\n",
        "        'max_depth': [1, 3, 5, 8]\n",
        "    }\n",
        "\n",
        "    # Crea el modelo GradientBoostingClassifier\n",
        "    clf = GradientBoostingClassifier(random_state=42)\n",
        "\n",
        "    # Crea el objeto GridSearchCV\n",
        "    grid_search = GridSearchCV(estimator=clf, param_grid=param_grid, scoring='accuracy', cv=5)\n",
        "\n",
        "    # Ajusta el modelo a los datos de entrenamiento\n",
        "    grid_search.fit(X_train, y_train)\n",
        "\n",
        "    # Obtiene los mejores hiperparámetros encontrados\n",
        "    best_params = grid_search.best_params_\n",
        "    print(\"Mejores hiperparámetros:\", best_params)\n",
        "\n",
        "    # Entrena un modelo con los mejores hiperparámetros en todo el conjunto de entrenamiento\n",
        "    clf_best = GradientBoostingClassifier(random_state=42, **best_params)\n",
        "    clf_best.fit(X_train, y_train)\n",
        "\n",
        "    # Calcula y muestra las métricas\n",
        "    train_accuracy = clf_best.score(X_train, y_train)\n",
        "    test_accuracy = clf_best.score(X_test, y_test)\n",
        "\n",
        "    print(\"[GradientBoostingClassifier] Accuracy: train = {:.4f}, test = {:.4f}\".format(\n",
        "        train_accuracy, test_accuracy))\n",
        "\n",
        "    # Calcula la matriz de confusión en el conjunto de prueba\n",
        "    y_pred = clf_best.predict(X_test)\n",
        "    cm = confusion_matrix(y_test, y_pred)\n",
        "    print(\"Confusion Matrix:\")\n",
        "    print(cm)\n",
        "\n",
        "    # Calcula el Recall en el conjunto de prueba\n",
        "    recall = recall_score(y_test, y_pred)\n",
        "    print(\"Recall: {:.4f}\".format(recall))\n",
        "\n",
        "    # Calcula la Precisión en el conjunto de prueba\n",
        "    precision = precision_score(y_test, y_pred)\n",
        "    print(\"Precision: {:.4f}\".format(precision))\n",
        "\n",
        "    # Calcula el F1-Score en el conjunto de prueba\n",
        "    f1 = f1_score(y_test, y_pred)\n",
        "    print(\"F1-Score: {:.4f}\".format(f1))\n",
        "\n",
        "    # Calcula el AUC-ROC en el conjunto de prueba\n",
        "    y_scores = clf_best.decision_function(X_test)\n",
        "    roc_auc = roc_auc_score(y_test, y_scores)\n",
        "    print(\"AUC-ROC: {:.4f}\".format(roc_auc))\n",
        "\n",
        "    # Calcula la curva ROC y plótala\n",
        "    fpr, tpr, _ = roc_curve(y_test, y_scores)\n",
        "    roc_auc = auc(fpr, tpr)\n",
        "    plt.figure()\n",
        "    plt.plot(fpr, tpr, color='darkorange', lw=2, label='ROC curve (area = {:.2f})'.format(roc_auc))\n",
        "    plt.plot([0, 1], [0, 1], color='navy', lw=2, linestyle='--')\n",
        "    plt.xlim([0.0, 1.0])\n",
        "    plt.ylim([0.0, 1.05])\n",
        "    plt.xlabel('False Positive Rate')\n",
        "    plt.ylabel('True Positive Rate')\n",
        "    plt.title('Receiver Operating Characteristic')\n",
        "    plt.legend(loc='lower right')\n",
        "    plt.show()\n",
        "\n",
        "    return clf_best\n",
        "\n",
        "# Llama a la función classify_gboost con tus datos\n",
        "best_clf = classify_gboost(features_train, features_test, y_train_preprocess, y_test_preprocess)\n",
        "\n"
      ],
      "metadata": {
        "id": "miwBe7mEj7SN"
      },
      "execution_count": null,
      "outputs": []
    },
    {
      "cell_type": "markdown",
      "source": [
        "Se intento ejecutar pero tardaba mucho la ejecucion asi que la idea seria si hubiese mas tiempo lanzar lo y esperar a que nos de los mejores hiperparametros con los mejores resultado siembre teniendo en cuenta que es un dataset no balanceado."
      ],
      "metadata": {
        "id": "nMz4DrsRvBha"
      }
    },
    {
      "cell_type": "markdown",
      "source": [
        "**Entrenamiento** **con dethlearning**\n"
      ],
      "metadata": {
        "id": "DMPdt_NoqrG8"
      }
    },
    {
      "cell_type": "code",
      "source": [
        "# Media de palabras en la reviews.\n",
        "# RRN necesitamos establcer el tamaño de neruonas\n",
        "# primero hacer el análisis para ver el número medio y máxcimo de palabras en las revies.\n",
        "#si una frase se queda corta, la palabrs restantes se rellenaran de 0. Esto sería negativop\n",
        "max = 0\n",
        "mean = []\n",
        "for example in X_train_preprocess:\n",
        "  length = len(example)\n",
        "  mean.append(len(example))\n",
        "  if length > max:\n",
        "    max = length\n",
        "print(sum(mean) / len(mean))\n",
        "print(max)"
      ],
      "metadata": {
        "colab": {
          "base_uri": "https://localhost:8080/"
        },
        "id": "86oHxOdvo9-K",
        "outputId": "22a691f8-80d7-4d37-d167-5d3093a10849"
      },
      "execution_count": 9,
      "outputs": [
        {
          "output_type": "stream",
          "name": "stdout",
          "text": [
            "168.68603319381103\n",
            "11312\n"
          ]
        }
      ]
    },
    {
      "cell_type": "code",
      "source": [
        "from tensorflow.keras.utils import pad_sequences\n",
        "\n",
        "max_words = 500"
      ],
      "metadata": {
        "id": "x2hfm_c-r9U6"
      },
      "execution_count": 10,
      "outputs": []
    },
    {
      "cell_type": "code",
      "source": [
        "from keras.models import Sequential\n",
        "from keras.layers import Embedding, LSTM, Dense, Dropout, GRUV2, SimpleRNN\n",
        "vocabulary_size = 5000\n",
        "embedding_size = 32\n",
        "model = Sequential()\n",
        "model.add(Embedding(vocabulary_size, embedding_size, input_length=max_words))\n",
        "model.add(LSTM(100))\n",
        "model.add(Dense(1, activation='sigmoid'))\n",
        "\n",
        "print(model.summary())"
      ],
      "metadata": {
        "colab": {
          "base_uri": "https://localhost:8080/"
        },
        "id": "NzOBQ-TisaP9",
        "outputId": "db4e7a5f-ab40-4e04-ac3d-2b357e12b283"
      },
      "execution_count": 11,
      "outputs": [
        {
          "output_type": "stream",
          "name": "stdout",
          "text": [
            "Model: \"sequential\"\n",
            "_________________________________________________________________\n",
            " Layer (type)                Output Shape              Param #   \n",
            "=================================================================\n",
            " embedding (Embedding)       (None, 500, 32)           160000    \n",
            "                                                                 \n",
            " lstm (LSTM)                 (None, 100)               53200     \n",
            "                                                                 \n",
            " dense (Dense)               (None, 1)                 101       \n",
            "                                                                 \n",
            "=================================================================\n",
            "Total params: 213,301\n",
            "Trainable params: 213,301\n",
            "Non-trainable params: 0\n",
            "_________________________________________________________________\n",
            "None\n"
          ]
        }
      ]
    },
    {
      "cell_type": "code",
      "source": [
        "model.compile(loss='binary_crossentropy', optimizer='adam', metrics=['accuracy'])"
      ],
      "metadata": {
        "id": "vGSRb7qZskWB"
      },
      "execution_count": 12,
      "outputs": []
    },
    {
      "cell_type": "code",
      "source": [
        "from sklearn.model_selection import train_test_split\n",
        "from tensorflow.keras.callbacks import ModelCheckpoint\n",
        "from sklearn.metrics import confusion_matrix, accuracy_score, precision_score, recall_score, f1_score, roc_auc_score, roc_curve, auc\n",
        "import matplotlib.pyplot as plt\n",
        "\n",
        "# Define la función para calcular y mostrar las métricas de evaluación\n",
        "def evaluate_model_metrics(model, X_test, y_test):\n",
        "    # Calcula las probabilidades de predicción en el conjunto de prueba\n",
        "    y_pred_prob = model.predict(X_test)\n",
        "\n",
        "    # Convierte las probabilidades en etiquetas binarias usando un umbral de 0.5\n",
        "    y_pred = (y_pred_prob > 0.5).astype(int)\n",
        "\n",
        "    # Calcula la matriz de confusión\n",
        "    confusion = confusion_matrix(y_test, y_pred)\n",
        "\n",
        "    # Calcula y muestra las métricas de evaluación\n",
        "    accuracy = accuracy_score(y_test, y_pred)\n",
        "    precision = precision_score(y_test, y_pred)\n",
        "    recall = recall_score(y_test, y_pred)\n",
        "    f1 = f1_score(y_test, y_pred)\n",
        "    roc_auc = roc_auc_score(y_test, y_pred_prob)\n",
        "\n",
        "    print(\"Accuracy:\", accuracy)\n",
        "    print(\"Confusion Matrix:\")\n",
        "    print(confusion)\n",
        "    print(\"Precision:\", precision)\n",
        "    print(\"Recall:\", recall)\n",
        "    print(\"F1-Score:\", f1)\n",
        "    print(\"AUC-ROC:\", roc_auc)\n",
        "\n",
        "    # Calcula y plotea la curva ROC\n",
        "    fpr, tpr, _ = roc_curve(y_test, y_pred_prob)\n",
        "    roc_auc = auc(fpr, tpr)\n",
        "    plt.figure()\n",
        "    plt.plot(fpr, tpr, color='darkorange', lw=2, label='ROC curve (area = {:.2f})'.format(roc_auc))\n",
        "    plt.plot([0, 1], [0, 1], color='navy', lw=2, linestyle='--')\n",
        "    plt.xlim([0.0, 1.0])\n",
        "    plt.ylim([0.0, 1.05])\n",
        "    plt.xlabel('False Positive Rate')\n",
        "    plt.ylabel('True Positive Rate')\n",
        "    plt.title('Receiver Operating Characteristic')\n",
        "    plt.legend(loc='lower right')\n",
        "    plt.show()\n",
        "\n",
        "# Divide features_train en conjuntos de entrenamiento y validación (90% entrenamiento, 10% validación)\n",
        "X_train_partial, X_valid, y_train_partial, y_valid = train_test_split(\n",
        "    features_train, y_train_preprocess, test_size=0.1, random_state=42\n",
        ")\n",
        "num_epochs = 1\n",
        "batch_size = 64\n",
        "max_words = 500\n",
        "\n",
        "# Ajusta este valor según la longitud deseada de las secuencias\n",
        "X_train_partial = pad_sequences(X_train_partial, maxlen=max_words)\n",
        "X_valid = pad_sequences(X_valid, maxlen=max_words)\n",
        "\n",
        "# Define una función de devolución de llamada para guardar el modelo con la mejor precisión en validación\n",
        "model_checkpoint = ModelCheckpoint(\n",
        "    \"best_model.h5\",  # Nombre del archivo para guardar el modelo\n",
        "    monitor='val_accuracy',  # Métrica a monitorear (precisión en validación)\n",
        "    save_best_only=True,  # Guardar solo el mejor modelo\n",
        "    mode='max',  # Maximizar la métrica de validación\n",
        "    verbose=1\n",
        ")\n",
        "\n",
        "# Entrena el modelo con el conjunto de entrenamiento y validación\n",
        "history = model.fit(\n",
        "    X_train_partial,\n",
        "    y_train_partial,\n",
        "    epochs=num_epochs,\n",
        "    batch_size=batch_size,\n",
        "    validation_data=(X_valid, y_valid),\n",
        "    callbacks=[model_checkpoint]  # Usa la función de devolución de llamada para guardar el mejor modelo\n",
        ")\n",
        "\n"
      ],
      "metadata": {
        "colab": {
          "base_uri": "https://localhost:8080/"
        },
        "id": "OLGcZA9G2yTw",
        "outputId": "4fddd214-2f1a-417a-d104-3ee41a706020"
      },
      "execution_count": 15,
      "outputs": [
        {
          "output_type": "stream",
          "name": "stdout",
          "text": [
            "676/676 [==============================] - ETA: 0s - loss: 0.3137 - accuracy: 0.9055\n",
            "Epoch 1: val_accuracy improved from -inf to 0.90964, saving model to best_model.h5\n",
            "676/676 [==============================] - 617s 912ms/step - loss: 0.3137 - accuracy: 0.9055 - val_loss: 0.3051 - val_accuracy: 0.9096\n"
          ]
        }
      ]
    },
    {
      "cell_type": "code",
      "source": [
        "\n",
        "# Evalúa el modelo en el conjunto de prueba y muestra las métricas de evaluación\n",
        "X_test = pad_sequences(features_test, maxlen=max_words)\n",
        "y_test = y_test_preprocess\n",
        "evaluate_model_metrics(model, X_test, y_test)"
      ],
      "metadata": {
        "colab": {
          "base_uri": "https://localhost:8080/",
          "height": 628
        },
        "id": "agMMFjyLj3lV",
        "outputId": "0de48c6f-e7b0-400e-a295-c5b6f0e18c13"
      },
      "execution_count": 16,
      "outputs": [
        {
          "output_type": "stream",
          "name": "stdout",
          "text": [
            "376/376 [==============================] - 48s 127ms/step\n",
            "Accuracy: 0.9072130601365984\n",
            "Confusion Matrix:\n",
            "[[    0  1114]\n",
            " [    0 10892]]\n",
            "Precision: 0.9072130601365984\n",
            "Recall: 1.0\n",
            "F1-Score: 0.9513494628351822\n",
            "AUC-ROC: 0.5003570225309897\n"
          ]
        },
        {
          "output_type": "display_data",
          "data": {
            "text/plain": [
              "<Figure size 640x480 with 1 Axes>"
            ],
            "image/png": "[encoded data removed]"
          },
          "metadata": {}
        }
      ]
    },
    {
      "cell_type": "markdown",
      "source": [
        "Se puede ver que tiene un acuraci del 90,72%  con el conjunto de validacion. Aunque como se ve en la matriz de confusion el conjunto de datos despues de una epoca  el modelo no es capaz de predecir la clase binaria de 0 (evaluaciones negativas asociadas a las estrellas de 1 al 3). Pero ha predicho correctamente 10,892 muestras como Clase 1 (estrellas 4 y 5). Esto es debido a que necesitemos mas kdatos de la clase 0 o emplear tecnicas de equilibrio. Esto tambien se puede ver en AUC-ROC de aproximadamente 0.5004 indica que el modelo no es efectivo para discriminar entre las clases 0 y 1 en este problema de clasificación. En concusion se deberia explorar mas en los hiperparametros de este modelo y entrenar por mas tiempo con una base de datos balanceada.\n",
        "\n",
        "\n",
        "\n"
      ],
      "metadata": {
        "id": "bvvlQ3cUYm6B"
      }
    },
    {
      "cell_type": "markdown",
      "source": [
        "Los dos modelos empleados muestran los mismo resultados, asi que como ya se  ha comentadose deberia seguir los los 3 puntos principales como balancear los datos, incrementar el training y selecionar los hiperparametros para tener un buen modelo capaz de clasificar correctamente teniendo una descripicon de una reseña."
      ],
      "metadata": {
        "id": "A06L1sUqbZ2v"
      }
    }
  ]
}